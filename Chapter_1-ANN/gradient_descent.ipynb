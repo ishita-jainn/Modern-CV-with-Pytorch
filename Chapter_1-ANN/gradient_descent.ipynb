{
 "cells": [
  {
   "cell_type": "code",
   "execution_count": 1,
   "id": "ae8c7820",
   "metadata": {},
   "outputs": [],
   "source": [
    "import numpy as np\n",
    "from copy import deepcopy"
   ]
  },
  {
   "cell_type": "code",
   "execution_count": 2,
   "id": "1c2a7bf0",
   "metadata": {},
   "outputs": [],
   "source": [
    "def feed_forward(inputs, outputs, weights):\n",
    "    pre_hidden = np.dot(inputs, weights[0]) +weights[1]\n",
    "    hidden = 1/1+ np.exp(-pre_hidden)\n",
    "    pred_output = np.dot(hidden, weights[2]) + weights[3]\n",
    "    mse = np.mean(np.square(pred_output - outputs))\n",
    "    return mse"
   ]
  },
  {
   "cell_type": "code",
   "execution_count": 3,
   "id": "352d68ca",
   "metadata": {},
   "outputs": [],
   "source": [
    "def update_weights(input, output, weights, lr):\n",
    "\n",
    "    lr = 0.0001\n",
    "    original_weights = deepcopy(weights)\n",
    "    temp_weights = deepcopy(weights)\n",
    "    updated_weights = deepcopy(weights)\n",
    "\n",
    "    original_loss = feed_forward(input, output, original_weights)\n",
    "    \n",
    "    for i , layer in enumerate(original_weights):\n",
    "        for index, weight in np.ndenumerate(layer):\n",
    "            temp_weights = deepcopy(weights)\n",
    "            temp_weights[i][index] += 0.0001\n",
    "            _loss_plus = feed_forward(input, output, temp_weights)\n",
    "\n",
    "            grad = (_loss_plus - original_loss)/ (0.0001)\n",
    "            updated_weights[i][index] -= grad*lr\n",
    "\n",
    "    \n",
    "    return updated_weights, original_loss"
   ]
  }
 ],
 "metadata": {
  "kernelspec": {
   "display_name": "campusx",
   "language": "python",
   "name": "python3"
  },
  "language_info": {
   "codemirror_mode": {
    "name": "ipython",
    "version": 3
   },
   "file_extension": ".py",
   "mimetype": "text/x-python",
   "name": "python",
   "nbconvert_exporter": "python",
   "pygments_lexer": "ipython3",
   "version": "3.12.3"
  }
 },
 "nbformat": 4,
 "nbformat_minor": 5
}
