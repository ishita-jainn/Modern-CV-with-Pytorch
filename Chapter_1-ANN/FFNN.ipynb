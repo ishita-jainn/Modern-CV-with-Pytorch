{
 "cells": [
  {
   "cell_type": "code",
   "execution_count": 5,
   "id": "dcd3a61c",
   "metadata": {},
   "outputs": [],
   "source": [
    "import numpy as np"
   ]
  },
  {
   "cell_type": "code",
   "execution_count": 8,
   "id": "9d2451d1",
   "metadata": {},
   "outputs": [],
   "source": [
    "def feed_forward(inputs, outputs, weights):\n",
    "    pre_hidden = np.dot(inputs, weights[0]) + weights[1]\n",
    "    hidden = 1/(1+np.exp(-pre_hidden))\n",
    "    pred_out = np.dot(hidden, weights[2]) + weights[3]\n",
    "\n",
    "    mse = np.mean(np.square(pred_out - outputs))\n",
    "    print (\"MSE: \", mse)\n",
    "    return mse"
   ]
  },
  {
   "cell_type": "code",
   "execution_count": 10,
   "id": "96b0407a",
   "metadata": {},
   "outputs": [
    {
     "name": "stdout",
     "output_type": "stream",
     "text": [
      "MSE:  0.41414510743148525\n",
      "0.41414510743148525\n"
     ]
    }
   ],
   "source": [
    "inputs = [1,2]\n",
    "ouputs = [1,2]\n",
    "weights = [[1,1],[0,0],[1,1],[0,0]]\n",
    "\n",
    "print(feed_forward(inputs,ouputs,weights))"
   ]
  },
  {
   "cell_type": "markdown",
   "id": "b4460b19",
   "metadata": {},
   "source": [
    "Activation Functions"
   ]
  },
  {
   "cell_type": "code",
   "execution_count": 11,
   "id": "d0148eea",
   "metadata": {},
   "outputs": [],
   "source": [
    "# 1. ReLu\n",
    "def relu(x):\n",
    "    return np.where(x>0,x,0)"
   ]
  },
  {
   "cell_type": "code",
   "execution_count": 12,
   "id": "bc559400",
   "metadata": {},
   "outputs": [],
   "source": [
    "# 2. tanh\n",
    "def tanh(x):\n",
    "    return (np.exp(x)-np.exp(-x))/(np.exp(x)+ np.exp(-x))"
   ]
  },
  {
   "cell_type": "code",
   "execution_count": 13,
   "id": "5c233b5e",
   "metadata": {},
   "outputs": [],
   "source": [
    "def linear(x):\n",
    "    return x"
   ]
  },
  {
   "cell_type": "code",
   "execution_count": 14,
   "id": "83d395c7",
   "metadata": {},
   "outputs": [],
   "source": [
    "def softmax(x):\n",
    "    np.exp(x)/np.sum(np.exp(x))"
   ]
  },
  {
   "cell_type": "markdown",
   "id": "1567a941",
   "metadata": {},
   "source": [
    "Loss Functions"
   ]
  },
  {
   "cell_type": "code",
   "execution_count": 15,
   "id": "6e4a6cf4",
   "metadata": {},
   "outputs": [],
   "source": [
    "def mse(p,y):\n",
    "    return np.mean(np.square(p-y))\n",
    "\n",
    "#mostly for continuous values"
   ]
  },
  {
   "cell_type": "code",
   "execution_count": 16,
   "id": "6b0365cc",
   "metadata": {},
   "outputs": [],
   "source": [
    "def mae(p,y):\n",
    "    return np.mean(np.abs(p-y))\n"
   ]
  },
  {
   "cell_type": "code",
   "execution_count": 17,
   "id": "7e687306",
   "metadata": {},
   "outputs": [],
   "source": [
    "def binary_cross_Entropy(p,y):\n",
    "    return -np.mean((y*np.log(p)+ (1-y)*np.log(1-p)))"
   ]
  },
  {
   "cell_type": "code",
   "execution_count": 18,
   "id": "b112e468",
   "metadata": {},
   "outputs": [],
   "source": [
    "def categorical_cross_entropy(p,y):\n",
    "    return -np.mean(np.log(p[np.arange(len(y)),y]))"
   ]
  },
  {
   "cell_type": "code",
   "execution_count": null,
   "id": "cf33dfcb",
   "metadata": {},
   "outputs": [],
   "source": []
  }
 ],
 "metadata": {
  "kernelspec": {
   "display_name": "campusx",
   "language": "python",
   "name": "python3"
  },
  "language_info": {
   "codemirror_mode": {
    "name": "ipython",
    "version": 3
   },
   "file_extension": ".py",
   "mimetype": "text/x-python",
   "name": "python",
   "nbconvert_exporter": "python",
   "pygments_lexer": "ipython3",
   "version": "3.12.3"
  }
 },
 "nbformat": 4,
 "nbformat_minor": 5
}
